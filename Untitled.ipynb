{
 "cells": [
  {
   "cell_type": "code",
   "execution_count": 1,
   "id": "d537f533-55f7-467b-a774-55e6d204055c",
   "metadata": {},
   "outputs": [
    {
     "name": "stdout",
     "output_type": "stream",
     "text": [
      "\u001b[33mDEPRECATION: Configuring installation scheme with distutils config files is deprecated and will no longer work in the near future. If you are using a Homebrew or Linuxbrew Python, please see discussion at https://github.com/Homebrew/homebrew-core/issues/76621\u001b[0m\u001b[33m\n",
      "\u001b[0mRequirement already satisfied: python-dotenv in /usr/local/lib/python3.9/site-packages (1.0.0)\n",
      "\u001b[33mDEPRECATION: Configuring installation scheme with distutils config files is deprecated and will no longer work in the near future. If you are using a Homebrew or Linuxbrew Python, please see discussion at https://github.com/Homebrew/homebrew-core/issues/76621\u001b[0m\u001b[33m\n",
      "\u001b[0m\n",
      "\u001b[1m[\u001b[0m\u001b[34;49mnotice\u001b[0m\u001b[1;39;49m]\u001b[0m\u001b[39;49m A new release of pip available: \u001b[0m\u001b[31;49m22.3.1\u001b[0m\u001b[39;49m -> \u001b[0m\u001b[32;49m23.2.1\u001b[0m\n",
      "\u001b[1m[\u001b[0m\u001b[34;49mnotice\u001b[0m\u001b[1;39;49m]\u001b[0m\u001b[39;49m To update, run: \u001b[0m\u001b[32;49mpython3.9 -m pip install --upgrade pip\u001b[0m\n",
      "\u001b[33mDEPRECATION: Configuring installation scheme with distutils config files is deprecated and will no longer work in the near future. If you are using a Homebrew or Linuxbrew Python, please see discussion at https://github.com/Homebrew/homebrew-core/issues/76621\u001b[0m\u001b[33m\n",
      "\u001b[0mRequirement already satisfied: openai in /usr/local/lib/python3.9/site-packages (0.28.0)\n",
      "Requirement already satisfied: tqdm in /usr/local/lib/python3.9/site-packages (from openai) (4.66.1)\n",
      "Requirement already satisfied: aiohttp in /usr/local/lib/python3.9/site-packages (from openai) (3.8.5)\n",
      "Requirement already satisfied: requests>=2.20 in /usr/local/lib/python3.9/site-packages (from openai) (2.31.0)\n",
      "Requirement already satisfied: idna<4,>=2.5 in /usr/local/lib/python3.9/site-packages (from requests>=2.20->openai) (3.4)\n",
      "Requirement already satisfied: urllib3<3,>=1.21.1 in /usr/local/lib/python3.9/site-packages (from requests>=2.20->openai) (2.0.5)\n",
      "Requirement already satisfied: charset-normalizer<4,>=2 in /usr/local/lib/python3.9/site-packages (from requests>=2.20->openai) (3.2.0)\n",
      "Requirement already satisfied: certifi>=2017.4.17 in /usr/local/lib/python3.9/site-packages (from requests>=2.20->openai) (2023.7.22)\n",
      "Requirement already satisfied: multidict<7.0,>=4.5 in /usr/local/lib/python3.9/site-packages (from aiohttp->openai) (6.0.4)\n",
      "Requirement already satisfied: frozenlist>=1.1.1 in /usr/local/lib/python3.9/site-packages (from aiohttp->openai) (1.4.0)\n",
      "Requirement already satisfied: aiosignal>=1.1.2 in /usr/local/lib/python3.9/site-packages (from aiohttp->openai) (1.3.1)\n",
      "Requirement already satisfied: yarl<2.0,>=1.0 in /usr/local/lib/python3.9/site-packages (from aiohttp->openai) (1.9.2)\n",
      "Requirement already satisfied: async-timeout<5.0,>=4.0.0a3 in /usr/local/lib/python3.9/site-packages (from aiohttp->openai) (4.0.3)\n",
      "Requirement already satisfied: attrs>=17.3.0 in /usr/local/lib/python3.9/site-packages (from aiohttp->openai) (23.1.0)\n",
      "\u001b[33mDEPRECATION: Configuring installation scheme with distutils config files is deprecated and will no longer work in the near future. If you are using a Homebrew or Linuxbrew Python, please see discussion at https://github.com/Homebrew/homebrew-core/issues/76621\u001b[0m\u001b[33m\n",
      "\u001b[0m\n",
      "\u001b[1m[\u001b[0m\u001b[34;49mnotice\u001b[0m\u001b[1;39;49m]\u001b[0m\u001b[39;49m A new release of pip available: \u001b[0m\u001b[31;49m22.3.1\u001b[0m\u001b[39;49m -> \u001b[0m\u001b[32;49m23.2.1\u001b[0m\n",
      "\u001b[1m[\u001b[0m\u001b[34;49mnotice\u001b[0m\u001b[1;39;49m]\u001b[0m\u001b[39;49m To update, run: \u001b[0m\u001b[32;49mpython3.9 -m pip install --upgrade pip\u001b[0m\n",
      "\u001b[33mDEPRECATION: Configuring installation scheme with distutils config files is deprecated and will no longer work in the near future. If you are using a Homebrew or Linuxbrew Python, please see discussion at https://github.com/Homebrew/homebrew-core/issues/76621\u001b[0m\u001b[33m\n",
      "\u001b[0mRequirement already satisfied: langchain in /usr/local/lib/python3.9/site-packages (0.0.302)\n",
      "Requirement already satisfied: jsonpatch<2.0,>=1.33 in /usr/local/lib/python3.9/site-packages (from langchain) (1.33)\n",
      "Requirement already satisfied: requests<3,>=2 in /usr/local/lib/python3.9/site-packages (from langchain) (2.31.0)\n",
      "Requirement already satisfied: async-timeout<5.0.0,>=4.0.0 in /usr/local/lib/python3.9/site-packages (from langchain) (4.0.3)\n",
      "Requirement already satisfied: pydantic<3,>=1 in /usr/local/lib/python3.9/site-packages (from langchain) (1.10.12)\n",
      "Requirement already satisfied: numpy<2,>=1 in /usr/local/lib/python3.9/site-packages (from langchain) (1.26.0)\n",
      "Requirement already satisfied: dataclasses-json<0.7,>=0.5.7 in /usr/local/lib/python3.9/site-packages (from langchain) (0.6.0)\n",
      "Requirement already satisfied: numexpr<3.0.0,>=2.8.4 in /usr/local/lib/python3.9/site-packages (from langchain) (2.8.6)\n",
      "Requirement already satisfied: SQLAlchemy<3,>=1.4 in /usr/local/lib/python3.9/site-packages (from langchain) (2.0.21)\n",
      "Requirement already satisfied: langsmith<0.1.0,>=0.0.38 in /usr/local/lib/python3.9/site-packages (from langchain) (0.0.40)\n",
      "Requirement already satisfied: PyYAML>=5.3 in /usr/local/lib/python3.9/site-packages (from langchain) (6.0.1)\n",
      "Requirement already satisfied: anyio<4.0 in /usr/local/lib/python3.9/site-packages (from langchain) (3.7.1)\n",
      "Requirement already satisfied: tenacity<9.0.0,>=8.1.0 in /usr/local/lib/python3.9/site-packages (from langchain) (8.2.3)\n",
      "Requirement already satisfied: aiohttp<4.0.0,>=3.8.3 in /usr/local/lib/python3.9/site-packages (from langchain) (3.8.5)\n",
      "Requirement already satisfied: multidict<7.0,>=4.5 in /usr/local/lib/python3.9/site-packages (from aiohttp<4.0.0,>=3.8.3->langchain) (6.0.4)\n",
      "Requirement already satisfied: yarl<2.0,>=1.0 in /usr/local/lib/python3.9/site-packages (from aiohttp<4.0.0,>=3.8.3->langchain) (1.9.2)\n",
      "Requirement already satisfied: attrs>=17.3.0 in /usr/local/lib/python3.9/site-packages (from aiohttp<4.0.0,>=3.8.3->langchain) (23.1.0)\n",
      "Requirement already satisfied: charset-normalizer<4.0,>=2.0 in /usr/local/lib/python3.9/site-packages (from aiohttp<4.0.0,>=3.8.3->langchain) (3.2.0)\n",
      "Requirement already satisfied: aiosignal>=1.1.2 in /usr/local/lib/python3.9/site-packages (from aiohttp<4.0.0,>=3.8.3->langchain) (1.3.1)\n",
      "Requirement already satisfied: frozenlist>=1.1.1 in /usr/local/lib/python3.9/site-packages (from aiohttp<4.0.0,>=3.8.3->langchain) (1.4.0)\n",
      "Requirement already satisfied: sniffio>=1.1 in /usr/local/lib/python3.9/site-packages (from anyio<4.0->langchain) (1.3.0)\n",
      "Requirement already satisfied: idna>=2.8 in /usr/local/lib/python3.9/site-packages (from anyio<4.0->langchain) (3.4)\n",
      "Requirement already satisfied: exceptiongroup in /usr/local/lib/python3.9/site-packages (from anyio<4.0->langchain) (1.1.3)\n",
      "Requirement already satisfied: marshmallow<4.0.0,>=3.18.0 in /usr/local/lib/python3.9/site-packages (from dataclasses-json<0.7,>=0.5.7->langchain) (3.20.1)\n",
      "Requirement already satisfied: typing-inspect<1,>=0.4.0 in /usr/local/lib/python3.9/site-packages (from dataclasses-json<0.7,>=0.5.7->langchain) (0.9.0)\n",
      "Requirement already satisfied: jsonpointer>=1.9 in /usr/local/lib/python3.9/site-packages (from jsonpatch<2.0,>=1.33->langchain) (2.4)\n",
      "Requirement already satisfied: typing-extensions>=4.2.0 in /usr/local/lib/python3.9/site-packages (from pydantic<3,>=1->langchain) (4.8.0)\n",
      "Requirement already satisfied: certifi>=2017.4.17 in /usr/local/lib/python3.9/site-packages (from requests<3,>=2->langchain) (2023.7.22)\n",
      "Requirement already satisfied: urllib3<3,>=1.21.1 in /usr/local/lib/python3.9/site-packages (from requests<3,>=2->langchain) (2.0.5)\n",
      "Requirement already satisfied: greenlet!=0.4.17 in /usr/local/lib/python3.9/site-packages (from SQLAlchemy<3,>=1.4->langchain) (2.0.2)\n",
      "Requirement already satisfied: packaging>=17.0 in /usr/local/lib/python3.9/site-packages (from marshmallow<4.0.0,>=3.18.0->dataclasses-json<0.7,>=0.5.7->langchain) (23.1)\n",
      "Requirement already satisfied: mypy-extensions>=0.3.0 in /usr/local/lib/python3.9/site-packages (from typing-inspect<1,>=0.4.0->dataclasses-json<0.7,>=0.5.7->langchain) (1.0.0)\n",
      "\u001b[33mDEPRECATION: Configuring installation scheme with distutils config files is deprecated and will no longer work in the near future. If you are using a Homebrew or Linuxbrew Python, please see discussion at https://github.com/Homebrew/homebrew-core/issues/76621\u001b[0m\u001b[33m\n",
      "\u001b[0m\n",
      "\u001b[1m[\u001b[0m\u001b[34;49mnotice\u001b[0m\u001b[1;39;49m]\u001b[0m\u001b[39;49m A new release of pip available: \u001b[0m\u001b[31;49m22.3.1\u001b[0m\u001b[39;49m -> \u001b[0m\u001b[32;49m23.2.1\u001b[0m\n",
      "\u001b[1m[\u001b[0m\u001b[34;49mnotice\u001b[0m\u001b[1;39;49m]\u001b[0m\u001b[39;49m To update, run: \u001b[0m\u001b[32;49mpython3.9 -m pip install --upgrade pip\u001b[0m\n",
      "\u001b[33mDEPRECATION: Configuring installation scheme with distutils config files is deprecated and will no longer work in the near future. If you are using a Homebrew or Linuxbrew Python, please see discussion at https://github.com/Homebrew/homebrew-core/issues/76621\u001b[0m\u001b[33m\n",
      "\u001b[0mRequirement already satisfied: pyyaml in /usr/local/lib/python3.9/site-packages (6.0.1)\n",
      "\u001b[33mDEPRECATION: Configuring installation scheme with distutils config files is deprecated and will no longer work in the near future. If you are using a Homebrew or Linuxbrew Python, please see discussion at https://github.com/Homebrew/homebrew-core/issues/76621\u001b[0m\u001b[33m\n",
      "\u001b[0m\n",
      "\u001b[1m[\u001b[0m\u001b[34;49mnotice\u001b[0m\u001b[1;39;49m]\u001b[0m\u001b[39;49m A new release of pip available: \u001b[0m\u001b[31;49m22.3.1\u001b[0m\u001b[39;49m -> \u001b[0m\u001b[32;49m23.2.1\u001b[0m\n",
      "\u001b[1m[\u001b[0m\u001b[34;49mnotice\u001b[0m\u001b[1;39;49m]\u001b[0m\u001b[39;49m To update, run: \u001b[0m\u001b[32;49mpython3.9 -m pip install --upgrade pip\u001b[0m\n",
      "\u001b[33mDEPRECATION: Configuring installation scheme with distutils config files is deprecated and will no longer work in the near future. If you are using a Homebrew or Linuxbrew Python, please see discussion at https://github.com/Homebrew/homebrew-core/issues/76621\u001b[0m\u001b[33m\n",
      "\u001b[0mRequirement already satisfied: unstructured in /usr/local/lib/python3.9/site-packages (0.10.16)\n",
      "Requirement already satisfied: emoji in /usr/local/lib/python3.9/site-packages (from unstructured) (2.8.0)\n",
      "Requirement already satisfied: requests in /usr/local/lib/python3.9/site-packages (from unstructured) (2.31.0)\n",
      "Requirement already satisfied: lxml in /usr/local/lib/python3.9/site-packages (from unstructured) (4.9.3)\n",
      "Requirement already satisfied: python-iso639 in /usr/local/lib/python3.9/site-packages (from unstructured) (2023.6.15)\n",
      "Requirement already satisfied: tabulate in /usr/local/lib/python3.9/site-packages (from unstructured) (0.9.0)\n",
      "Requirement already satisfied: chardet in /usr/local/lib/python3.9/site-packages (from unstructured) (5.2.0)\n",
      "Requirement already satisfied: dataclasses-json in /usr/local/lib/python3.9/site-packages (from unstructured) (0.6.0)\n",
      "Requirement already satisfied: python-magic in /usr/local/lib/python3.9/site-packages (from unstructured) (0.4.27)\n",
      "Requirement already satisfied: beautifulsoup4 in /usr/local/lib/python3.9/site-packages (from unstructured) (4.12.2)\n",
      "Requirement already satisfied: nltk in /usr/local/lib/python3.9/site-packages (from unstructured) (3.8.1)\n",
      "Requirement already satisfied: filetype in /usr/local/lib/python3.9/site-packages (from unstructured) (1.2.0)\n",
      "Requirement already satisfied: soupsieve>1.2 in /usr/local/lib/python3.9/site-packages (from beautifulsoup4->unstructured) (2.5)\n",
      "Requirement already satisfied: typing-inspect<1,>=0.4.0 in /usr/local/lib/python3.9/site-packages (from dataclasses-json->unstructured) (0.9.0)\n",
      "Requirement already satisfied: marshmallow<4.0.0,>=3.18.0 in /usr/local/lib/python3.9/site-packages (from dataclasses-json->unstructured) (3.20.1)\n",
      "Requirement already satisfied: tqdm in /usr/local/lib/python3.9/site-packages (from nltk->unstructured) (4.66.1)\n",
      "Requirement already satisfied: joblib in /usr/local/lib/python3.9/site-packages (from nltk->unstructured) (1.3.2)\n",
      "Requirement already satisfied: click in /usr/local/lib/python3.9/site-packages (from nltk->unstructured) (8.1.7)\n",
      "Requirement already satisfied: regex>=2021.8.3 in /usr/local/lib/python3.9/site-packages (from nltk->unstructured) (2023.8.8)\n",
      "Requirement already satisfied: charset-normalizer<4,>=2 in /usr/local/lib/python3.9/site-packages (from requests->unstructured) (3.2.0)\n",
      "Requirement already satisfied: certifi>=2017.4.17 in /usr/local/lib/python3.9/site-packages (from requests->unstructured) (2023.7.22)\n",
      "Requirement already satisfied: urllib3<3,>=1.21.1 in /usr/local/lib/python3.9/site-packages (from requests->unstructured) (2.0.5)\n",
      "Requirement already satisfied: idna<4,>=2.5 in /usr/local/lib/python3.9/site-packages (from requests->unstructured) (3.4)\n",
      "Requirement already satisfied: packaging>=17.0 in /usr/local/lib/python3.9/site-packages (from marshmallow<4.0.0,>=3.18.0->dataclasses-json->unstructured) (23.1)\n",
      "Requirement already satisfied: typing-extensions>=3.7.4 in /usr/local/lib/python3.9/site-packages (from typing-inspect<1,>=0.4.0->dataclasses-json->unstructured) (4.8.0)\n",
      "Requirement already satisfied: mypy-extensions>=0.3.0 in /usr/local/lib/python3.9/site-packages (from typing-inspect<1,>=0.4.0->dataclasses-json->unstructured) (1.0.0)\n",
      "\u001b[33mDEPRECATION: Configuring installation scheme with distutils config files is deprecated and will no longer work in the near future. If you are using a Homebrew or Linuxbrew Python, please see discussion at https://github.com/Homebrew/homebrew-core/issues/76621\u001b[0m\u001b[33m\n",
      "\u001b[0m\n",
      "\u001b[1m[\u001b[0m\u001b[34;49mnotice\u001b[0m\u001b[1;39;49m]\u001b[0m\u001b[39;49m A new release of pip available: \u001b[0m\u001b[31;49m22.3.1\u001b[0m\u001b[39;49m -> \u001b[0m\u001b[32;49m23.2.1\u001b[0m\n",
      "\u001b[1m[\u001b[0m\u001b[34;49mnotice\u001b[0m\u001b[1;39;49m]\u001b[0m\u001b[39;49m To update, run: \u001b[0m\u001b[32;49mpython3.9 -m pip install --upgrade pip\u001b[0m\n",
      "\u001b[33mDEPRECATION: Configuring installation scheme with distutils config files is deprecated and will no longer work in the near future. If you are using a Homebrew or Linuxbrew Python, please see discussion at https://github.com/Homebrew/homebrew-core/issues/76621\u001b[0m\u001b[33m\n",
      "\u001b[0mRequirement already satisfied: markdown in /usr/local/lib/python3.9/site-packages (3.4.4)\n",
      "Requirement already satisfied: importlib-metadata>=4.4 in /usr/local/lib/python3.9/site-packages (from markdown) (6.8.0)\n",
      "Requirement already satisfied: zipp>=0.5 in /usr/local/lib/python3.9/site-packages (from importlib-metadata>=4.4->markdown) (3.17.0)\n",
      "\u001b[33mDEPRECATION: Configuring installation scheme with distutils config files is deprecated and will no longer work in the near future. If you are using a Homebrew or Linuxbrew Python, please see discussion at https://github.com/Homebrew/homebrew-core/issues/76621\u001b[0m\u001b[33m\n",
      "\u001b[0m\n",
      "\u001b[1m[\u001b[0m\u001b[34;49mnotice\u001b[0m\u001b[1;39;49m]\u001b[0m\u001b[39;49m A new release of pip available: \u001b[0m\u001b[31;49m22.3.1\u001b[0m\u001b[39;49m -> \u001b[0m\u001b[32;49m23.2.1\u001b[0m\n",
      "\u001b[1m[\u001b[0m\u001b[34;49mnotice\u001b[0m\u001b[1;39;49m]\u001b[0m\u001b[39;49m To update, run: \u001b[0m\u001b[32;49mpython3.9 -m pip install --upgrade pip\u001b[0m\n"
     ]
    }
   ],
   "source": [
    "!pip install python-dotenv\n",
    "!pip install openai\n",
    "!pip install --upgrade langchain\n",
    "!pip install pyyaml\n",
    "!pip install unstructured\n",
    "!pip install markdown"
   ]
  },
  {
   "cell_type": "code",
   "execution_count": 2,
   "id": "2b92f1d9-93db-4fa9-9c75-f637c58d1550",
   "metadata": {},
   "outputs": [],
   "source": [
    "# account for deprecation of LLM model\n",
    "import datetime\n",
    "# Get the current date\n",
    "current_date = datetime.datetime.now().date()\n",
    "\n",
    "# Define the date after which the model should be set to \"gpt-3.5-turbo\"\n",
    "target_date = datetime.date(2024, 6, 12)\n",
    "\n",
    "# Set the model variable based on the current date\n",
    "if current_date > target_date:\n",
    "    llm_model = \"gpt-3.5-turbo\"\n",
    "else:\n",
    "    llm_model = \"gpt-3.5-turbo-0301\""
   ]
  },
  {
   "cell_type": "code",
   "execution_count": 3,
   "id": "2dc4b89d-773e-4853-ad76-a9240aa6c83f",
   "metadata": {},
   "outputs": [],
   "source": [
    "import openai\n",
    "from dotenv import load_dotenv, find_dotenv\n",
    "import os\n",
    "_ = load_dotenv(find_dotenv())\n",
    "openai.api_key = os.environ[\"OPENAI_API_KEY\"]"
   ]
  },
  {
   "cell_type": "code",
   "execution_count": 4,
   "id": "d5eb2964-9705-4b47-8307-21b1b7e2300e",
   "metadata": {},
   "outputs": [],
   "source": [
    "from langchain.chat_models import ChatOpenAI\n",
    "\n",
    "llm = ChatOpenAI(temperature=0.8, model=llm_model)"
   ]
  },
  {
   "cell_type": "code",
   "execution_count": 5,
   "id": "d4ea7d96-7656-496e-be2f-f0298c2ded48",
   "metadata": {},
   "outputs": [],
   "source": [
    "import yaml\n",
    "\n",
    "with open('./service_catalogue/services.yaml', 'r') as file:\n",
    "    valid_services = yaml.safe_load(file)\n",
    "\n",
    "with open('./service_catalogue/service_descriptions.yaml', 'r') as file:\n",
    "    descriptions = yaml.safe_load(file)"
   ]
  },
  {
   "cell_type": "code",
   "execution_count": 6,
   "id": "27515e18-2500-4ee6-8128-880d95d7e25d",
   "metadata": {},
   "outputs": [],
   "source": [
    "from langchain.prompts import PromptTemplate\n",
    "from langchain.chains import LLMChain\n",
    "\n",
    "template_string = \"\"\" You are a helpful assistant that helps developers get their applications\n",
    "running in the cloud.\n",
    "\n",
    "For the following text, determine which service from the list of valid_services the developer is asking about.\n",
    "\n",
    "valid_services: {valid_services}\n",
    "\n",
    "text: {text}\n",
    "\n",
    "The following json dictionary has each service as a key, and includes a high level\n",
    "description as a value. {descriptions}\n",
    "\n",
    "the output should be a list of valid servies being referenced\n",
    "\n",
    "\"\"\"\n",
    "\n",
    "prompt_template = PromptTemplate.from_template(template_string) \n",
    "\n",
    "llm_chain = LLMChain(\n",
    "    llm = llm,\n",
    "    prompt= prompt_template,\n",
    "    verbose=True,\n",
    ")"
   ]
  },
  {
   "cell_type": "markdown",
   "id": "dd2a7533-871e-496c-bf50-1813ae72ee9c",
   "metadata": {},
   "source": [
    "template_string = \"\"\"\n",
    "You are a helpful assistant that will help developers get their application \\\n",
    "running in the cloud.\n",
    "\n",
    "For the following text, determine which service from the list of valid_services the developer is asking about.\n",
    "\n",
    "valid_services: {services}\n",
    "\n",
    "text: {text}\n",
    "\n",
    "The following json dictionary has each service as a key, and includes a high level \\\n",
    "description as a value. {descriptions} \\\n",
    "\n",
    "format the output as a list of services.\n",
    "\n",
    "If you think that the user is not asking a question about running an application in the cloud, return nonsense as the service name\n",
    "\n",
    "\n",
    "\"\"\""
   ]
  },
  {
   "cell_type": "code",
   "execution_count": 7,
   "id": "eadd7529-29c8-4f25-b74b-433f59759301",
   "metadata": {},
   "outputs": [
    {
     "name": "stdout",
     "output_type": "stream",
     "text": [
      "['descriptions', 'text', 'valid_services']\n"
     ]
    }
   ],
   "source": [
    "print(prompt_template.input_variables)"
   ]
  },
  {
   "cell_type": "code",
   "execution_count": 8,
   "id": "457c2829-768c-4e3f-bf33-211a91065413",
   "metadata": {},
   "outputs": [],
   "source": [
    "messages = \"I want to route to my app using a dns address\""
   ]
  },
  {
   "cell_type": "code",
   "execution_count": 9,
   "id": "20e34e3e-0c03-410a-8397-f64bb1abe65a",
   "metadata": {},
   "outputs": [
    {
     "name": "stdout",
     "output_type": "stream",
     "text": [
      "\n",
      "\n",
      "\u001b[1m> Entering new LLMChain chain...\u001b[0m\n",
      "Prompt after formatting:\n",
      "\u001b[32;1m\u001b[1;3m You are a helpful assistant that helps developers get their applications\n",
      "running in the cloud.\n",
      "\n",
      "For the following text, determine which service from the list of valid_services the developer is asking about.\n",
      "\n",
      "valid_services: ['account', 'authorization', 'compute', 'ingress', 'transitGateway', 'sqlDatabase', 'objectStorage']\n",
      "\n",
      "text: I want to route to my app using a dns address\n",
      "\n",
      "The following json dictionary has each service as a key, and includes a high level\n",
      "description as a value. {'account': 'Creates an AWS account that is secure and has entitlements for authorization', 'authorization': 'creates groups and entitlements in active directoy that can be used for authorization', 'compute': 'Deploys containers together with everything required to support upgrades and reduce downtime', 'ingress': 'Allows a deployed container to be routed to, deploys load balancer, DNS address, certificates, and supports both host-based routing and path-based routing', 'transitGatway': 'Provisions a hub network that can route between networks. Assigns ip addresses to avoid conflicts', 'sqlDatabase': 'creates SQL databases', 'objectStorage': 'creates a directory where objects can be stored.'}\n",
      "\n",
      "the output should be a list of valid servies being referenced\n",
      "\n",
      "\u001b[0m\n",
      "\n",
      "\u001b[1m> Finished chain.\u001b[0m\n"
     ]
    }
   ],
   "source": [
    "output = llm_chain.predict(\n",
    "    descriptions=descriptions,\n",
    "    valid_services=valid_services,\n",
    "    text=messages,\n",
    ")"
   ]
  },
  {
   "cell_type": "code",
   "execution_count": 10,
   "id": "09c78d30-d8d5-4ec3-8862-aa5b7471693b",
   "metadata": {},
   "outputs": [
    {
     "name": "stdout",
     "output_type": "stream",
     "text": [
      "The service being referred to in the text is 'ingress'.\n"
     ]
    }
   ],
   "source": [
    "print(output)"
   ]
  },
  {
   "cell_type": "code",
   "execution_count": 11,
   "id": "04f3e670-99d9-425b-99fb-930f31c0a5c4",
   "metadata": {},
   "outputs": [
    {
     "name": "stdout",
     "output_type": "stream",
     "text": [
      "\n",
      "\n",
      "\u001b[1m> Entering new LLMChain chain...\u001b[0m\n",
      "Prompt after formatting:\n",
      "\u001b[32;1m\u001b[1;3m Take the text as input\n",
      "\n",
      "Convert the text that describes a list of services into a list of service in json\n",
      "\n",
      "text: the service is compute\n",
      "\n",
      "[\"compute\"]\n",
      "\n",
      "text: The service being referred to in the text is 'ingress'.\n",
      "\n",
      "\n",
      "\u001b[0m\n",
      "\n",
      "\u001b[1m> Finished chain.\u001b[0m\n"
     ]
    }
   ],
   "source": [
    "from langchain.prompts import PromptTemplate\n",
    "from langchain.chains import LLMChain\n",
    "\n",
    "format_fixer_template_string = \"\"\" Take the text as input\n",
    "\n",
    "Convert the text that describes a list of services into a list of service in json\n",
    "\n",
    "text: the service is compute\n",
    "\n",
    "[\"compute\"]\n",
    "\n",
    "text: {text}\n",
    "\n",
    "\n",
    "\"\"\"\n",
    "\n",
    "format_fixer_prompt_template = PromptTemplate.from_template(format_fixer_template_string) \n",
    "\n",
    "format_correcting_chain = LLMChain(\n",
    "    llm = llm,\n",
    "    prompt= format_fixer_prompt_template,\n",
    "    verbose=True,\n",
    ")\n",
    "\n",
    "output = format_correcting_chain.predict(\n",
    "    text=output,\n",
    ")"
   ]
  },
  {
   "cell_type": "code",
   "execution_count": 12,
   "id": "9980f0f5-3092-4723-bf74-d88c2f21e181",
   "metadata": {},
   "outputs": [
    {
     "name": "stdout",
     "output_type": "stream",
     "text": [
      "[\"ingress\"]\n"
     ]
    }
   ],
   "source": [
    "print(output)"
   ]
  },
  {
   "cell_type": "code",
   "execution_count": 13,
   "id": "77e11b24-6aef-44c2-b097-873e8acc68ba",
   "metadata": {},
   "outputs": [
    {
     "name": "stdout",
     "output_type": "stream",
     "text": [
      "{'Header 1': 'Overview', 'Document': 'account.md'}\n",
      "{'Header 1': 'Inputs', 'Document': 'account.md'}\n",
      "{'Header 1': 'Outputs', 'Document': 'account.md'}\n",
      "{'Header 1': 'Overview', 'Document': 'authorization.md'}\n",
      "{'Header 1': 'Overview', 'Document': 'compute.md'}\n",
      "{'Header 1': 'Inputs', 'Document': 'compute.md'}\n",
      "{'Header 1': 'outputs', 'Document': 'compute.md'}\n",
      "{'Header 1': 'Overview', 'Document': 'ingress.md'}\n",
      "{'Header 1': 'inputs', 'Document': 'ingress.md'}\n",
      "{'Header 1': 'Overview', 'Document': 'transitGateway.md'}\n",
      "{'Header 1': 'Inputs', 'Document': 'transitGateway.md'}\n",
      "{'Header 1': 'Overview', 'Document': 'objectStorage.md'}\n",
      "{'Header 1': 'inputs', 'Document': 'objectStorage.md'}\n",
      "13\n",
      "<class 'langchain.schema.document.Document'>\n"
     ]
    }
   ],
   "source": [
    "from langchain.text_splitter import MarkdownHeaderTextSplitter\n",
    "\n",
    "headers_to_split_on = [\n",
    "    (\"#\", \"Header 1\"),\n",
    "    (\"##\", \"Header 2\"),\n",
    "    (\"###\", \"Header 3\"),\n",
    "]\n",
    "markdown_splitter = MarkdownHeaderTextSplitter(\n",
    "    headers_to_split_on=headers_to_split_on\n",
    ")\n",
    "\n",
    "split_sections = []\n",
    "for s in valid_services:\n",
    "    with open(f'./service_catalogue/{s}.md', 'r') as file:\n",
    "        read_file = file.read()\n",
    "        md_header_splits = markdown_splitter.split_text(read_file)\n",
    "        for i in md_header_splits:\n",
    "            i.metadata['Document'] = f'{s}.md'\n",
    "            print(i.metadata)\n",
    "            split_sections.append(i)\n",
    "\n",
    "print(len(split_sections))\n",
    "print(type(split_sections[0]))\n",
    "\n",
    "\n",
    "\n"
   ]
  },
  {
   "cell_type": "code",
   "execution_count": 14,
   "id": "a560138d-9dd8-4a6f-ac3a-8ff60948407d",
   "metadata": {},
   "outputs": [
    {
     "name": "stdout",
     "output_type": "stream",
     "text": [
      "13\n"
     ]
    }
   ],
   "source": [
    "# now let's build an embedding based on openai embeddings\n",
    "from langchain.vectorstores import Chroma\n",
    "from langchain.embeddings.openai import OpenAIEmbeddings\n",
    "# persist_directory = 'docs/chroma/'\n",
    "embedding = OpenAIEmbeddings()\n",
    "vectordb = Chroma.from_documents(\n",
    "    #persist_directory=persist_directory,\n",
    "    documents=split_sections,\n",
    "    embedding=embedding,\n",
    ")\n",
    "print(vectordb._collection.count())"
   ]
  },
  {
   "cell_type": "code",
   "execution_count": 15,
   "id": "58196a2b-4f7e-46b5-9f0e-12e8b8e8b025",
   "metadata": {},
   "outputs": [],
   "source": [
    "question = \"How do I ensure there are no ip conflicts?\"\n",
    "docs = vectordb.similarity_search(question,k=5)"
   ]
  },
  {
   "cell_type": "code",
   "execution_count": 16,
   "id": "674a1fcb-6725-41a7-8ab3-b94959eaec28",
   "metadata": {},
   "outputs": [
    {
     "name": "stdout",
     "output_type": "stream",
     "text": [
      "[Document(page_content='The transit gateway services allows the provisioning of a network that\\nallows you to route from the VPC in your cloud account to other VPCs.  \\nIt does this both by configuring routes from your VPC to the transit\\nnewtwork and also by configuring DNS in your account so that you can\\nboth resolve DNS addresses across the network and so that you can\\nleverage DNS addresses that can be resolved.  \\nThe transit gateway also assigns you ip addresses using IPAM to ensure that\\nyou do not get an overlapping IP.', metadata={'Document': 'transitGateway.md', 'Header 1': 'Overview'}), Document(page_content='hostname: Each provisioned deployment gets a local hostname', metadata={'Document': 'compute.md', 'Header 1': 'outputs'}), Document(page_content='The compute resource allows compute to be provisioned for processes in a way that\\nsupports both availability and supports upgrades without downtime.', metadata={'Document': 'compute.md', 'Header 1': 'Overview'}), Document(page_content='the object store configures S3 buckets in a way that is secure.', metadata={'Document': 'objectStorage.md', 'Header 1': 'Overview'}), Document(page_content='The following inputs can be configured when requesting a transit\\ngateway:  \\nenvironment: The environment of your environment, this will determine\\nwhat networks it can route to and whether is can configure a NAT\\nGateway.  \\nallow_nat_gateway: A boolean for if you want to be able to reach the\\noutside internet through the transit gateway.  \\nip_block_size: a size of IPs to request that will be non-overlapping. The\\ngateways ensure that  \\nvpc_id: ID of VPC that you want to configure to use the transit gateway.\\nRoutes and DNS resolvers will be configured for this VPC', metadata={'Document': 'transitGateway.md', 'Header 1': 'Inputs'})]\n"
     ]
    }
   ],
   "source": [
    "print(docs)"
   ]
  },
  {
   "cell_type": "code",
   "execution_count": 17,
   "id": "933b2539-8e8b-4da5-b1f6-826a56a729a9",
   "metadata": {},
   "outputs": [],
   "source": [
    "from langchain.chains import RetrievalQA\n",
    "llm_zero = ChatOpenAI(temperature=0.0, model=llm_model)\n",
    "template = \"\"\"Use the following pieces of context to answer the question at the end. If you don't know the answer, just say that you don't know, don't try to make up an answer. Use three sentences maximum. Keep the answer as concise as possible. Always say \"thanks for asking!\" at the end of the answer. \n",
    "{context}\n",
    "Question: {question}\n",
    "Helpful Answer:\"\"\"\n",
    "QA_CHAIN_PROMPT = PromptTemplate.from_template(template)\n",
    "qa_chain = RetrievalQA.from_chain_type(\n",
    "    llm_zero,\n",
    "    retriever=vectordb.as_retriever(),\n",
    "    return_source_documents=True,\n",
    "    chain_type_kwargs={\"prompt\": QA_CHAIN_PROMPT}\n",
    ")\n"
   ]
  },
  {
   "cell_type": "code",
   "execution_count": 18,
   "id": "a1b62d03-d14e-4e61-8f07-04ab23fbf6ff",
   "metadata": {},
   "outputs": [],
   "source": [
    "result = qa_chain({\"query\": question})"
   ]
  },
  {
   "cell_type": "code",
   "execution_count": 19,
   "id": "ef5addcc-7dca-4f3c-8694-f3a6ce6f163a",
   "metadata": {},
   "outputs": [
    {
     "name": "stdout",
     "output_type": "stream",
     "text": [
      "You can ensure there are no IP conflicts by using IPAM, which assigns you IP addresses. Thanks for asking!\n"
     ]
    }
   ],
   "source": [
    "print(result['result'])"
   ]
  },
  {
   "cell_type": "code",
   "execution_count": null,
   "id": "88a8cd4c-cc57-451b-b7ac-518bfb7ced4b",
   "metadata": {},
   "outputs": [],
   "source": [
    "# figure out if the user wants to deploy\n",
    "# what the resource is\n",
    "# a resource, and if so, deploy it for them using python codegen"
   ]
  },
  {
   "cell_type": "code",
   "execution_count": null,
   "id": "f3772147-beb9-45bc-a6bd-75697b54e7eb",
   "metadata": {},
   "outputs": [],
   "source": []
  }
 ],
 "metadata": {
  "kernelspec": {
   "display_name": "Python 3 (ipykernel)",
   "language": "python",
   "name": "python3"
  },
  "language_info": {
   "codemirror_mode": {
    "name": "ipython",
    "version": 3
   },
   "file_extension": ".py",
   "mimetype": "text/x-python",
   "name": "python",
   "nbconvert_exporter": "python",
   "pygments_lexer": "ipython3",
   "version": "3.9.17"
  }
 },
 "nbformat": 4,
 "nbformat_minor": 5
}
